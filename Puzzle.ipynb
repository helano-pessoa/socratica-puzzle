{
 "cells": [
  {
   "cell_type": "markdown",
   "source": [
    "## Socratica Puzzle\n",
    "\n",
    "There are 64 ways to combine $1$, $\\frac{1}{2}$, $\\frac{1}{3}$, $\\frac{1}{4}$, $\\frac{1}{5}$, $\\frac{1}{6}$ by adding and subtracting. How close to zero can you get?"
   ],
   "metadata": {}
  },
  {
   "cell_type": "markdown",
   "source": [
    "### Settings"
   ],
   "metadata": {}
  },
  {
   "cell_type": "code",
   "execution_count": 1,
   "source": [
    "# Load packages\n",
    "using JuMP\n",
    "using Cbc"
   ],
   "outputs": [],
   "metadata": {}
  },
  {
   "cell_type": "code",
   "execution_count": 2,
   "source": [
    "# Define the coefficient vector and its size\n",
    "coefficients = [1, 1/2, 1/3, 1/4, 1/5, 1/6]\n",
    "size = length(coefficients)"
   ],
   "outputs": [
    {
     "output_type": "execute_result",
     "data": {
      "text/plain": [
       "6"
      ]
     },
     "metadata": {},
     "execution_count": 2
    }
   ],
   "metadata": {}
  },
  {
   "cell_type": "markdown",
   "source": [
    "### Model"
   ],
   "metadata": {}
  },
  {
   "cell_type": "code",
   "execution_count": 3,
   "source": [
    "# Create the model and set cbc as solver\n",
    "puzzle = Model(Cbc.Optimizer)"
   ],
   "outputs": [
    {
     "output_type": "execute_result",
     "data": {
      "text/plain": [
       "A JuMP Model\n",
       "Feasibility problem with:\n",
       "Variables: 0\n",
       "Model mode: AUTOMATIC\n",
       "CachingOptimizer state: EMPTY_OPTIMIZER\n",
       "Solver name: COIN Branch-and-Cut (Cbc)"
      ]
     },
     "metadata": {},
     "execution_count": 3
    }
   ],
   "metadata": {}
  },
  {
   "cell_type": "code",
   "execution_count": 4,
   "source": [
    "# Silence the solver log (optional)\n",
    "set_silent(puzzle)"
   ],
   "outputs": [
    {
     "output_type": "execute_result",
     "data": {
      "text/plain": [
       "true"
      ]
     },
     "metadata": {},
     "execution_count": 4
    }
   ],
   "metadata": {}
  },
  {
   "cell_type": "code",
   "execution_count": 5,
   "source": [
    "# Create x variables. We can take -1 or 1.\n",
    "@variable(puzzle, -1 <= x[1:size] <= 1, Int)"
   ],
   "outputs": [
    {
     "output_type": "execute_result",
     "data": {
      "text/plain": [
       "6-element Vector{VariableRef}:\n",
       " x[1]\n",
       " x[2]\n",
       " x[3]\n",
       " x[4]\n",
       " x[5]\n",
       " x[6]"
      ]
     },
     "metadata": {},
     "execution_count": 5
    }
   ],
   "metadata": {}
  },
  {
   "cell_type": "code",
   "execution_count": 6,
   "source": [
    "# Create y variables. This is an 'aid variable' to help us to set -1 or 1 in x variables.\n",
    "@variable(puzzle, y[1:size], Bin)"
   ],
   "outputs": [
    {
     "output_type": "execute_result",
     "data": {
      "text/plain": [
       "6-element Vector{VariableRef}:\n",
       " y[1]\n",
       " y[2]\n",
       " y[3]\n",
       " y[4]\n",
       " y[5]\n",
       " y[6]"
      ]
     },
     "metadata": {},
     "execution_count": 6
    }
   ],
   "metadata": {}
  },
  {
   "cell_type": "code",
   "execution_count": 7,
   "source": [
    "# Create objective function. Minimize the sum of the coefficients multiplied by the variable `x`.\n",
    "@objective(puzzle, Min, sum(coefficients[i] * x[i] for i in 1:size))"
   ],
   "outputs": [
    {
     "output_type": "execute_result",
     "data": {
      "text/plain": [
       "x[1] + 0.5 x[2] + 0.3333333333333333 x[3] + 0.25 x[4] + 0.2 x[5] + 0.16666666666666666 x[6]"
      ],
      "text/latex": [
       "$$ x_{1} + 0.5 x_{2} + 0.3333333333333333 x_{3} + 0.25 x_{4} + 0.2 x_{5} + 0.16666666666666666 x_{6} $$"
      ]
     },
     "metadata": {},
     "execution_count": 7
    }
   ],
   "metadata": {}
  },
  {
   "cell_type": "code",
   "execution_count": 8,
   "source": [
    "# Create constraint to prevent the sum above assume a negative value.\n",
    "@constraint(puzzle, sum(coefficients[i] * x[i] for i in 1:size) >= 0)"
   ],
   "outputs": [
    {
     "output_type": "execute_result",
     "data": {
      "text/plain": [
       "x[1] + 0.5 x[2] + 0.3333333333333333 x[3] + 0.25 x[4] + 0.2 x[5] + 0.16666666666666666 x[6] ≥ 0.0"
      ],
      "text/latex": [
       "$$ x_{1} + 0.5 x_{2} + 0.3333333333333333 x_{3} + 0.25 x_{4} + 0.2 x_{5} + 0.16666666666666666 x_{6} \\geq 0.0 $$"
      ]
     },
     "metadata": {},
     "execution_count": 8
    }
   ],
   "metadata": {}
  },
  {
   "cell_type": "code",
   "execution_count": 9,
   "source": [
    "# Create constraint to set -1 or 1 in x variables.\n",
    "@constraint(puzzle, [i=1:size], x[i] == 2y[i] - 1)"
   ],
   "outputs": [
    {
     "output_type": "execute_result",
     "data": {
      "text/plain": [
       "6-element Vector{ConstraintRef{Model, MathOptInterface.ConstraintIndex{MathOptInterface.ScalarAffineFunction{Float64}, MathOptInterface.EqualTo{Float64}}, ScalarShape}}:\n",
       " x[1] - 2 y[1] = -1.0\n",
       " x[2] - 2 y[2] = -1.0\n",
       " x[3] - 2 y[3] = -1.0\n",
       " x[4] - 2 y[4] = -1.0\n",
       " x[5] - 2 y[5] = -1.0\n",
       " x[6] - 2 y[6] = -1.0"
      ]
     },
     "metadata": {},
     "execution_count": 9
    }
   ],
   "metadata": {}
  },
  {
   "cell_type": "markdown",
   "source": [
    "### Solve"
   ],
   "metadata": {}
  },
  {
   "cell_type": "code",
   "execution_count": 10,
   "source": [
    "# Solve the problem.\n",
    "optimize!(puzzle)"
   ],
   "outputs": [],
   "metadata": {}
  },
  {
   "cell_type": "code",
   "execution_count": 11,
   "source": [
    "# Get value of the objective function.\n",
    "objective_value(puzzle)"
   ],
   "outputs": [
    {
     "output_type": "execute_result",
     "data": {
      "text/plain": [
       "0.050000000000000266"
      ]
     },
     "metadata": {},
     "execution_count": 11
    }
   ],
   "metadata": {}
  },
  {
   "cell_type": "code",
   "execution_count": 12,
   "source": [
    "# Get x values. We can understand these values as the signal of each coefficient.\n",
    "value.(x)"
   ],
   "outputs": [
    {
     "output_type": "execute_result",
     "data": {
      "text/plain": [
       "6-element Vector{Float64}:\n",
       "  1.0\n",
       " -1.0\n",
       " -1.0\n",
       "  1.0\n",
       " -1.0\n",
       " -1.0"
      ]
     },
     "metadata": {},
     "execution_count": 12
    }
   ],
   "metadata": {}
  },
  {
   "cell_type": "markdown",
   "source": [
    "### Conclusion"
   ],
   "metadata": {}
  },
  {
   "cell_type": "markdown",
   "source": [
    "We can conclude that $$ 1 - \\frac{1}{2} - \\frac{1}{3} + \\frac{1}{4} - \\frac{1}{5} - \\frac{1}{6} = 0.05 $$ \n",
    "\n",
    "is the combination comes closest to zero for the given coefficients. Really? 🤔 \n",
    "\n",
    "...I'll let you think about it. 😉"
   ],
   "metadata": {}
  },
  {
   "cell_type": "markdown",
   "source": [
    "### PS:\n",
    "We can obtain LaTex formulation of the problem by executing `latex_formulation(model: puzzle)` or simply `print(model: puzzle)`."
   ],
   "metadata": {}
  },
  {
   "cell_type": "code",
   "execution_count": 13,
   "source": [
    "# LaTex formulation\n",
    "latex_formulation(puzzle)"
   ],
   "outputs": [
    {
     "output_type": "execute_result",
     "data": {
      "text/plain": [
       "$$ \\begin{aligned}\n",
       "\\min\\quad & x_{1} + 0.5 x_{2} + 0.3333333333333333 x_{3} + 0.25 x_{4} + 0.2 x_{5} + 0.16666666666666666 x_{6}\\\\\n",
       "\\text{Subject to} \\quad & x_{1} - 2 y_{1} = -1.0\\\\\n",
       " & x_{2} - 2 y_{2} = -1.0\\\\\n",
       " & x_{3} - 2 y_{3} = -1.0\\\\\n",
       " & x_{4} - 2 y_{4} = -1.0\\\\\n",
       " & x_{5} - 2 y_{5} = -1.0\\\\\n",
       " & x_{6} - 2 y_{6} = -1.0\\\\\n",
       " & x_{1} + 0.5 x_{2} + 0.3333333333333333 x_{3} + 0.25 x_{4} + 0.2 x_{5} + 0.16666666666666666 x_{6} \\geq 0.0\\\\\n",
       " & x_{1} \\geq -1.0\\\\\n",
       " & x_{2} \\geq -1.0\\\\\n",
       " & x_{3} \\geq -1.0\\\\\n",
       " & x_{4} \\geq -1.0\\\\\n",
       " & x_{5} \\geq -1.0\\\\\n",
       " & x_{6} \\geq -1.0\\\\\n",
       " & x_{1} \\leq 1.0\\\\\n",
       " & x_{2} \\leq 1.0\\\\\n",
       " & x_{3} \\leq 1.0\\\\\n",
       " & x_{4} \\leq 1.0\\\\\n",
       " & x_{5} \\leq 1.0\\\\\n",
       " & x_{6} \\leq 1.0\\\\\n",
       " & x_{1} \\in \\mathbb{Z}\\\\\n",
       " & x_{2} \\in \\mathbb{Z}\\\\\n",
       " & x_{3} \\in \\mathbb{Z}\\\\\n",
       " & x_{4} \\in \\mathbb{Z}\\\\\n",
       " & x_{5} \\in \\mathbb{Z}\\\\\n",
       " & x_{6} \\in \\mathbb{Z}\\\\\n",
       " & y_{1} \\in \\{0, 1\\}\\\\\n",
       " & y_{2} \\in \\{0, 1\\}\\\\\n",
       " & y_{3} \\in \\{0, 1\\}\\\\\n",
       " & y_{4} \\in \\{0, 1\\}\\\\\n",
       " & y_{5} \\in \\{0, 1\\}\\\\\n",
       " & y_{6} \\in \\{0, 1\\}\\\\\n",
       "\\end{aligned} $$"
      ],
      "text/latex": [
       "$$ \\begin{aligned}\n",
       "\\min\\quad & x_{1} + 0.5 x_{2} + 0.3333333333333333 x_{3} + 0.25 x_{4} + 0.2 x_{5} + 0.16666666666666666 x_{6}\\\\\n",
       "\\text{Subject to} \\quad & x_{1} - 2 y_{1} = -1.0\\\\\n",
       " & x_{2} - 2 y_{2} = -1.0\\\\\n",
       " & x_{3} - 2 y_{3} = -1.0\\\\\n",
       " & x_{4} - 2 y_{4} = -1.0\\\\\n",
       " & x_{5} - 2 y_{5} = -1.0\\\\\n",
       " & x_{6} - 2 y_{6} = -1.0\\\\\n",
       " & x_{1} + 0.5 x_{2} + 0.3333333333333333 x_{3} + 0.25 x_{4} + 0.2 x_{5} + 0.16666666666666666 x_{6} \\geq 0.0\\\\\n",
       " & x_{1} \\geq -1.0\\\\\n",
       " & x_{2} \\geq -1.0\\\\\n",
       " & x_{3} \\geq -1.0\\\\\n",
       " & x_{4} \\geq -1.0\\\\\n",
       " & x_{5} \\geq -1.0\\\\\n",
       " & x_{6} \\geq -1.0\\\\\n",
       " & x_{1} \\leq 1.0\\\\\n",
       " & x_{2} \\leq 1.0\\\\\n",
       " & x_{3} \\leq 1.0\\\\\n",
       " & x_{4} \\leq 1.0\\\\\n",
       " & x_{5} \\leq 1.0\\\\\n",
       " & x_{6} \\leq 1.0\\\\\n",
       " & x_{1} \\in \\mathbb{Z}\\\\\n",
       " & x_{2} \\in \\mathbb{Z}\\\\\n",
       " & x_{3} \\in \\mathbb{Z}\\\\\n",
       " & x_{4} \\in \\mathbb{Z}\\\\\n",
       " & x_{5} \\in \\mathbb{Z}\\\\\n",
       " & x_{6} \\in \\mathbb{Z}\\\\\n",
       " & y_{1} \\in \\{0, 1\\}\\\\\n",
       " & y_{2} \\in \\{0, 1\\}\\\\\n",
       " & y_{3} \\in \\{0, 1\\}\\\\\n",
       " & y_{4} \\in \\{0, 1\\}\\\\\n",
       " & y_{5} \\in \\{0, 1\\}\\\\\n",
       " & y_{6} \\in \\{0, 1\\}\\\\\n",
       "\\end{aligned} $$"
      ]
     },
     "metadata": {},
     "execution_count": 13
    }
   ],
   "metadata": {}
  }
 ],
 "metadata": {
  "kernelspec": {
   "display_name": "Julia 1.6.2",
   "language": "julia",
   "name": "julia-1.6"
  },
  "language_info": {
   "file_extension": ".jl",
   "mimetype": "application/julia",
   "name": "julia",
   "version": "1.6.2"
  }
 },
 "nbformat": 4,
 "nbformat_minor": 5
}